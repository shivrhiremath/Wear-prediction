{
 "cells": [
  {
   "cell_type": "code",
   "execution_count": 1,
   "id": "f16215a7",
   "metadata": {},
   "outputs": [],
   "source": [
    "import pandas as pd \n",
    "import numpy as np\n",
    "import matplotlib.pyplot as plt \n",
    "import seaborn as sns "
   ]
  },
  {
   "cell_type": "code",
   "execution_count": 2,
   "id": "9f782a43",
   "metadata": {},
   "outputs": [],
   "source": [
    "df = pd.read_excel('pod_results.xlsx')"
   ]
  },
  {
   "cell_type": "code",
   "execution_count": 3,
   "id": "83e9c0f2",
   "metadata": {},
   "outputs": [
    {
     "data": {
      "text/plain": [
       "Unnamed: 0    2\n",
       "Unnamed: 1    1\n",
       "Unnamed: 2    2\n",
       "Unnamed: 3    2\n",
       "Unnamed: 4    2\n",
       "Unnamed: 5    2\n",
       "Unnamed: 6    2\n",
       "dtype: int64"
      ]
     },
     "execution_count": 3,
     "metadata": {},
     "output_type": "execute_result"
    }
   ],
   "source": [
    "df.isnull().sum()"
   ]
  },
  {
   "cell_type": "code",
   "execution_count": 4,
   "id": "187458d6",
   "metadata": {},
   "outputs": [
    {
     "data": {
      "text/html": [
       "<div>\n",
       "<style scoped>\n",
       "    .dataframe tbody tr th:only-of-type {\n",
       "        vertical-align: middle;\n",
       "    }\n",
       "\n",
       "    .dataframe tbody tr th {\n",
       "        vertical-align: top;\n",
       "    }\n",
       "\n",
       "    .dataframe thead th {\n",
       "        text-align: right;\n",
       "    }\n",
       "</style>\n",
       "<table border=\"1\" class=\"dataframe\">\n",
       "  <thead>\n",
       "    <tr style=\"text-align: right;\">\n",
       "      <th></th>\n",
       "      <th>Unnamed: 0</th>\n",
       "      <th>Unnamed: 1</th>\n",
       "      <th>Unnamed: 2</th>\n",
       "      <th>Unnamed: 3</th>\n",
       "      <th>Unnamed: 4</th>\n",
       "      <th>Unnamed: 5</th>\n",
       "      <th>Unnamed: 6</th>\n",
       "    </tr>\n",
       "  </thead>\n",
       "  <tbody>\n",
       "    <tr>\n",
       "      <th>0</th>\n",
       "      <td>NaN</td>\n",
       "      <td>UNCOATED specimens</td>\n",
       "      <td>NaN</td>\n",
       "      <td>NaN</td>\n",
       "      <td>NaN</td>\n",
       "      <td>NaN</td>\n",
       "      <td>NaN</td>\n",
       "    </tr>\n",
       "    <tr>\n",
       "      <th>1</th>\n",
       "      <td>NaN</td>\n",
       "      <td>NaN</td>\n",
       "      <td>NaN</td>\n",
       "      <td>NaN</td>\n",
       "      <td>NaN</td>\n",
       "      <td>NaN</td>\n",
       "      <td>NaN</td>\n",
       "    </tr>\n",
       "    <tr>\n",
       "      <th>2</th>\n",
       "      <td>Sl no</td>\n",
       "      <td>Load</td>\n",
       "      <td>Speed</td>\n",
       "      <td>Time</td>\n",
       "      <td>Initial weight</td>\n",
       "      <td>Final weight</td>\n",
       "      <td>Weight loss</td>\n",
       "    </tr>\n",
       "    <tr>\n",
       "      <th>3</th>\n",
       "      <td>1</td>\n",
       "      <td>1</td>\n",
       "      <td>200</td>\n",
       "      <td>30</td>\n",
       "      <td>14.926</td>\n",
       "      <td>14.921</td>\n",
       "      <td>0.005</td>\n",
       "    </tr>\n",
       "    <tr>\n",
       "      <th>4</th>\n",
       "      <td>2</td>\n",
       "      <td>1</td>\n",
       "      <td>400</td>\n",
       "      <td>30</td>\n",
       "      <td>15.03</td>\n",
       "      <td>15.026</td>\n",
       "      <td>0.004</td>\n",
       "    </tr>\n",
       "  </tbody>\n",
       "</table>\n",
       "</div>"
      ],
      "text/plain": [
       "  Unnamed: 0            Unnamed: 1 Unnamed: 2 Unnamed: 3      Unnamed: 4  \\\n",
       "0        NaN  UNCOATED specimens          NaN        NaN             NaN   \n",
       "1        NaN                   NaN        NaN        NaN             NaN   \n",
       "2     Sl no                   Load      Speed       Time  Initial weight   \n",
       "3          1                     1        200         30          14.926   \n",
       "4          2                     1        400         30           15.03   \n",
       "\n",
       "     Unnamed: 5   Unnamed: 6  \n",
       "0           NaN          NaN  \n",
       "1           NaN          NaN  \n",
       "2  Final weight  Weight loss  \n",
       "3        14.921        0.005  \n",
       "4        15.026        0.004  "
      ]
     },
     "execution_count": 4,
     "metadata": {},
     "output_type": "execute_result"
    }
   ],
   "source": [
    "df.head()"
   ]
  },
  {
   "cell_type": "code",
   "execution_count": 5,
   "id": "c4d8b4af",
   "metadata": {},
   "outputs": [],
   "source": [
    "df.dropna(inplace=True)"
   ]
  },
  {
   "cell_type": "code",
   "execution_count": 6,
   "id": "98a34040",
   "metadata": {},
   "outputs": [
    {
     "data": {
      "text/html": [
       "<div>\n",
       "<style scoped>\n",
       "    .dataframe tbody tr th:only-of-type {\n",
       "        vertical-align: middle;\n",
       "    }\n",
       "\n",
       "    .dataframe tbody tr th {\n",
       "        vertical-align: top;\n",
       "    }\n",
       "\n",
       "    .dataframe thead th {\n",
       "        text-align: right;\n",
       "    }\n",
       "</style>\n",
       "<table border=\"1\" class=\"dataframe\">\n",
       "  <thead>\n",
       "    <tr style=\"text-align: right;\">\n",
       "      <th></th>\n",
       "      <th>Unnamed: 0</th>\n",
       "      <th>Unnamed: 1</th>\n",
       "      <th>Unnamed: 2</th>\n",
       "      <th>Unnamed: 3</th>\n",
       "      <th>Unnamed: 4</th>\n",
       "      <th>Unnamed: 5</th>\n",
       "      <th>Unnamed: 6</th>\n",
       "    </tr>\n",
       "  </thead>\n",
       "  <tbody>\n",
       "    <tr>\n",
       "      <th>2</th>\n",
       "      <td>Sl no</td>\n",
       "      <td>Load</td>\n",
       "      <td>Speed</td>\n",
       "      <td>Time</td>\n",
       "      <td>Initial weight</td>\n",
       "      <td>Final weight</td>\n",
       "      <td>Weight loss</td>\n",
       "    </tr>\n",
       "    <tr>\n",
       "      <th>3</th>\n",
       "      <td>1</td>\n",
       "      <td>1</td>\n",
       "      <td>200</td>\n",
       "      <td>30</td>\n",
       "      <td>14.926</td>\n",
       "      <td>14.921</td>\n",
       "      <td>0.005</td>\n",
       "    </tr>\n",
       "    <tr>\n",
       "      <th>4</th>\n",
       "      <td>2</td>\n",
       "      <td>1</td>\n",
       "      <td>400</td>\n",
       "      <td>30</td>\n",
       "      <td>15.03</td>\n",
       "      <td>15.026</td>\n",
       "      <td>0.004</td>\n",
       "    </tr>\n",
       "    <tr>\n",
       "      <th>5</th>\n",
       "      <td>3</td>\n",
       "      <td>1</td>\n",
       "      <td>600</td>\n",
       "      <td>30</td>\n",
       "      <td>15.067</td>\n",
       "      <td>15.064</td>\n",
       "      <td>0.003</td>\n",
       "    </tr>\n",
       "    <tr>\n",
       "      <th>6</th>\n",
       "      <td>4</td>\n",
       "      <td>2</td>\n",
       "      <td>200</td>\n",
       "      <td>30</td>\n",
       "      <td>15.567</td>\n",
       "      <td>15.559</td>\n",
       "      <td>0.008</td>\n",
       "    </tr>\n",
       "  </tbody>\n",
       "</table>\n",
       "</div>"
      ],
      "text/plain": [
       "  Unnamed: 0 Unnamed: 1 Unnamed: 2 Unnamed: 3      Unnamed: 4    Unnamed: 5  \\\n",
       "2     Sl no        Load      Speed       Time  Initial weight  Final weight   \n",
       "3          1          1        200         30          14.926        14.921   \n",
       "4          2          1        400         30           15.03        15.026   \n",
       "5          3          1        600         30          15.067        15.064   \n",
       "6          4          2        200         30          15.567        15.559   \n",
       "\n",
       "    Unnamed: 6  \n",
       "2  Weight loss  \n",
       "3        0.005  \n",
       "4        0.004  \n",
       "5        0.003  \n",
       "6        0.008  "
      ]
     },
     "execution_count": 6,
     "metadata": {},
     "output_type": "execute_result"
    }
   ],
   "source": [
    "df.head()"
   ]
  },
  {
   "cell_type": "code",
   "execution_count": 7,
   "id": "094e9833",
   "metadata": {},
   "outputs": [
    {
     "data": {
      "text/plain": [
       "Index(['Unnamed: 0', 'Unnamed: 1', 'Unnamed: 2', 'Unnamed: 3', 'Unnamed: 4',\n",
       "       'Unnamed: 5', 'Unnamed: 6'],\n",
       "      dtype='object')"
      ]
     },
     "execution_count": 7,
     "metadata": {},
     "output_type": "execute_result"
    }
   ],
   "source": [
    "df.columns"
   ]
  },
  {
   "cell_type": "code",
   "execution_count": 7,
   "id": "377b024c",
   "metadata": {},
   "outputs": [],
   "source": [
    "df.columns=df.iloc[0]"
   ]
  },
  {
   "cell_type": "code",
   "execution_count": 8,
   "id": "2f380cfe",
   "metadata": {},
   "outputs": [
    {
     "data": {
      "text/html": [
       "<div>\n",
       "<style scoped>\n",
       "    .dataframe tbody tr th:only-of-type {\n",
       "        vertical-align: middle;\n",
       "    }\n",
       "\n",
       "    .dataframe tbody tr th {\n",
       "        vertical-align: top;\n",
       "    }\n",
       "\n",
       "    .dataframe thead th {\n",
       "        text-align: right;\n",
       "    }\n",
       "</style>\n",
       "<table border=\"1\" class=\"dataframe\">\n",
       "  <thead>\n",
       "    <tr style=\"text-align: right;\">\n",
       "      <th>2</th>\n",
       "      <th>Sl no</th>\n",
       "      <th>Load</th>\n",
       "      <th>Speed</th>\n",
       "      <th>Time</th>\n",
       "      <th>Initial weight</th>\n",
       "      <th>Final weight</th>\n",
       "      <th>Weight loss</th>\n",
       "    </tr>\n",
       "  </thead>\n",
       "  <tbody>\n",
       "    <tr>\n",
       "      <th>2</th>\n",
       "      <td>Sl no</td>\n",
       "      <td>Load</td>\n",
       "      <td>Speed</td>\n",
       "      <td>Time</td>\n",
       "      <td>Initial weight</td>\n",
       "      <td>Final weight</td>\n",
       "      <td>Weight loss</td>\n",
       "    </tr>\n",
       "    <tr>\n",
       "      <th>3</th>\n",
       "      <td>1</td>\n",
       "      <td>1</td>\n",
       "      <td>200</td>\n",
       "      <td>30</td>\n",
       "      <td>14.926</td>\n",
       "      <td>14.921</td>\n",
       "      <td>0.005</td>\n",
       "    </tr>\n",
       "    <tr>\n",
       "      <th>4</th>\n",
       "      <td>2</td>\n",
       "      <td>1</td>\n",
       "      <td>400</td>\n",
       "      <td>30</td>\n",
       "      <td>15.03</td>\n",
       "      <td>15.026</td>\n",
       "      <td>0.004</td>\n",
       "    </tr>\n",
       "    <tr>\n",
       "      <th>5</th>\n",
       "      <td>3</td>\n",
       "      <td>1</td>\n",
       "      <td>600</td>\n",
       "      <td>30</td>\n",
       "      <td>15.067</td>\n",
       "      <td>15.064</td>\n",
       "      <td>0.003</td>\n",
       "    </tr>\n",
       "    <tr>\n",
       "      <th>6</th>\n",
       "      <td>4</td>\n",
       "      <td>2</td>\n",
       "      <td>200</td>\n",
       "      <td>30</td>\n",
       "      <td>15.567</td>\n",
       "      <td>15.559</td>\n",
       "      <td>0.008</td>\n",
       "    </tr>\n",
       "    <tr>\n",
       "      <th>7</th>\n",
       "      <td>5</td>\n",
       "      <td>2</td>\n",
       "      <td>400</td>\n",
       "      <td>30</td>\n",
       "      <td>15.823</td>\n",
       "      <td>15.818</td>\n",
       "      <td>0.005</td>\n",
       "    </tr>\n",
       "    <tr>\n",
       "      <th>8</th>\n",
       "      <td>6</td>\n",
       "      <td>2</td>\n",
       "      <td>600</td>\n",
       "      <td>30</td>\n",
       "      <td>14.127</td>\n",
       "      <td>14.122</td>\n",
       "      <td>0.005</td>\n",
       "    </tr>\n",
       "    <tr>\n",
       "      <th>9</th>\n",
       "      <td>7</td>\n",
       "      <td>3</td>\n",
       "      <td>200</td>\n",
       "      <td>30</td>\n",
       "      <td>15.125</td>\n",
       "      <td>15.117</td>\n",
       "      <td>0.008</td>\n",
       "    </tr>\n",
       "    <tr>\n",
       "      <th>10</th>\n",
       "      <td>8</td>\n",
       "      <td>3</td>\n",
       "      <td>400</td>\n",
       "      <td>30</td>\n",
       "      <td>16.135</td>\n",
       "      <td>16.131</td>\n",
       "      <td>0.004</td>\n",
       "    </tr>\n",
       "    <tr>\n",
       "      <th>11</th>\n",
       "      <td>9</td>\n",
       "      <td>3</td>\n",
       "      <td>600</td>\n",
       "      <td>30</td>\n",
       "      <td>14.491</td>\n",
       "      <td>14.487</td>\n",
       "      <td>0.004</td>\n",
       "    </tr>\n",
       "    <tr>\n",
       "      <th>12</th>\n",
       "      <td>10</td>\n",
       "      <td>1</td>\n",
       "      <td>200</td>\n",
       "      <td>45</td>\n",
       "      <td>15.078</td>\n",
       "      <td>15.072</td>\n",
       "      <td>0.006</td>\n",
       "    </tr>\n",
       "    <tr>\n",
       "      <th>13</th>\n",
       "      <td>11</td>\n",
       "      <td>1</td>\n",
       "      <td>400</td>\n",
       "      <td>45</td>\n",
       "      <td>14.874</td>\n",
       "      <td>14.869</td>\n",
       "      <td>0.005</td>\n",
       "    </tr>\n",
       "    <tr>\n",
       "      <th>14</th>\n",
       "      <td>12</td>\n",
       "      <td>1</td>\n",
       "      <td>600</td>\n",
       "      <td>45</td>\n",
       "      <td>16.462</td>\n",
       "      <td>16.458</td>\n",
       "      <td>0.004</td>\n",
       "    </tr>\n",
       "    <tr>\n",
       "      <th>15</th>\n",
       "      <td>13</td>\n",
       "      <td>2</td>\n",
       "      <td>200</td>\n",
       "      <td>45</td>\n",
       "      <td>15.474</td>\n",
       "      <td>15.465</td>\n",
       "      <td>0.009</td>\n",
       "    </tr>\n",
       "    <tr>\n",
       "      <th>16</th>\n",
       "      <td>14</td>\n",
       "      <td>2</td>\n",
       "      <td>400</td>\n",
       "      <td>45</td>\n",
       "      <td>15.133</td>\n",
       "      <td>15.127</td>\n",
       "      <td>0.006</td>\n",
       "    </tr>\n",
       "    <tr>\n",
       "      <th>17</th>\n",
       "      <td>15</td>\n",
       "      <td>2</td>\n",
       "      <td>600</td>\n",
       "      <td>45</td>\n",
       "      <td>15.736</td>\n",
       "      <td>15.73</td>\n",
       "      <td>0.006</td>\n",
       "    </tr>\n",
       "    <tr>\n",
       "      <th>18</th>\n",
       "      <td>16</td>\n",
       "      <td>3</td>\n",
       "      <td>200</td>\n",
       "      <td>45</td>\n",
       "      <td>15.057</td>\n",
       "      <td>15.048</td>\n",
       "      <td>0.009</td>\n",
       "    </tr>\n",
       "    <tr>\n",
       "      <th>19</th>\n",
       "      <td>17</td>\n",
       "      <td>3</td>\n",
       "      <td>400</td>\n",
       "      <td>45</td>\n",
       "      <td>16.157</td>\n",
       "      <td>16.151</td>\n",
       "      <td>0.006</td>\n",
       "    </tr>\n",
       "    <tr>\n",
       "      <th>20</th>\n",
       "      <td>18</td>\n",
       "      <td>3</td>\n",
       "      <td>600</td>\n",
       "      <td>45</td>\n",
       "      <td>15.374</td>\n",
       "      <td>15.368</td>\n",
       "      <td>0.006</td>\n",
       "    </tr>\n",
       "    <tr>\n",
       "      <th>21</th>\n",
       "      <td>19</td>\n",
       "      <td>1</td>\n",
       "      <td>200</td>\n",
       "      <td>15</td>\n",
       "      <td>15.51</td>\n",
       "      <td>15.507</td>\n",
       "      <td>0.003</td>\n",
       "    </tr>\n",
       "    <tr>\n",
       "      <th>22</th>\n",
       "      <td>20</td>\n",
       "      <td>1</td>\n",
       "      <td>400</td>\n",
       "      <td>15</td>\n",
       "      <td>16.368</td>\n",
       "      <td>16.366</td>\n",
       "      <td>0.002</td>\n",
       "    </tr>\n",
       "    <tr>\n",
       "      <th>23</th>\n",
       "      <td>21</td>\n",
       "      <td>1</td>\n",
       "      <td>600</td>\n",
       "      <td>15</td>\n",
       "      <td>15.524</td>\n",
       "      <td>15.522</td>\n",
       "      <td>0.002</td>\n",
       "    </tr>\n",
       "    <tr>\n",
       "      <th>24</th>\n",
       "      <td>22</td>\n",
       "      <td>2</td>\n",
       "      <td>200</td>\n",
       "      <td>15</td>\n",
       "      <td>15.363</td>\n",
       "      <td>15.358</td>\n",
       "      <td>0.005</td>\n",
       "    </tr>\n",
       "    <tr>\n",
       "      <th>25</th>\n",
       "      <td>23</td>\n",
       "      <td>2</td>\n",
       "      <td>400</td>\n",
       "      <td>15</td>\n",
       "      <td>15.245</td>\n",
       "      <td>15.243</td>\n",
       "      <td>0.002</td>\n",
       "    </tr>\n",
       "    <tr>\n",
       "      <th>26</th>\n",
       "      <td>24</td>\n",
       "      <td>2</td>\n",
       "      <td>600</td>\n",
       "      <td>15</td>\n",
       "      <td>15.375</td>\n",
       "      <td>15.373</td>\n",
       "      <td>0.002</td>\n",
       "    </tr>\n",
       "    <tr>\n",
       "      <th>27</th>\n",
       "      <td>25</td>\n",
       "      <td>3</td>\n",
       "      <td>200</td>\n",
       "      <td>15</td>\n",
       "      <td>15.697</td>\n",
       "      <td>15.691</td>\n",
       "      <td>0.006</td>\n",
       "    </tr>\n",
       "    <tr>\n",
       "      <th>28</th>\n",
       "      <td>26</td>\n",
       "      <td>3</td>\n",
       "      <td>400</td>\n",
       "      <td>15</td>\n",
       "      <td>15.282</td>\n",
       "      <td>15.279</td>\n",
       "      <td>0.003</td>\n",
       "    </tr>\n",
       "    <tr>\n",
       "      <th>29</th>\n",
       "      <td>27</td>\n",
       "      <td>3</td>\n",
       "      <td>600</td>\n",
       "      <td>15</td>\n",
       "      <td>15.562</td>\n",
       "      <td>15.559</td>\n",
       "      <td>0.003</td>\n",
       "    </tr>\n",
       "  </tbody>\n",
       "</table>\n",
       "</div>"
      ],
      "text/plain": [
       "2   Sl no   Load  Speed  Time  Initial weight  Final weight  Weight loss\n",
       "2   Sl no   Load  Speed  Time  Initial weight  Final weight  Weight loss\n",
       "3        1     1    200    30          14.926        14.921        0.005\n",
       "4        2     1    400    30           15.03        15.026        0.004\n",
       "5        3     1    600    30          15.067        15.064        0.003\n",
       "6        4     2    200    30          15.567        15.559        0.008\n",
       "7        5     2    400    30          15.823        15.818        0.005\n",
       "8        6     2    600    30          14.127        14.122        0.005\n",
       "9        7     3    200    30          15.125        15.117        0.008\n",
       "10       8     3    400    30          16.135        16.131        0.004\n",
       "11       9     3    600    30          14.491        14.487        0.004\n",
       "12      10     1    200    45          15.078        15.072        0.006\n",
       "13      11     1    400    45          14.874        14.869        0.005\n",
       "14      12     1    600    45          16.462        16.458        0.004\n",
       "15      13     2    200    45          15.474        15.465        0.009\n",
       "16      14     2    400    45          15.133        15.127        0.006\n",
       "17      15     2    600    45          15.736         15.73        0.006\n",
       "18      16     3    200    45          15.057        15.048        0.009\n",
       "19      17     3    400    45          16.157        16.151        0.006\n",
       "20      18     3    600    45          15.374        15.368        0.006\n",
       "21      19     1    200    15           15.51        15.507        0.003\n",
       "22      20     1    400    15          16.368        16.366        0.002\n",
       "23      21     1    600    15          15.524        15.522        0.002\n",
       "24      22     2    200    15          15.363        15.358        0.005\n",
       "25      23     2    400    15          15.245        15.243        0.002\n",
       "26      24     2    600    15          15.375        15.373        0.002\n",
       "27      25     3    200    15          15.697        15.691        0.006\n",
       "28      26     3    400    15          15.282        15.279        0.003\n",
       "29      27     3    600    15          15.562        15.559        0.003"
      ]
     },
     "execution_count": 8,
     "metadata": {},
     "output_type": "execute_result"
    }
   ],
   "source": [
    "df"
   ]
  },
  {
   "cell_type": "code",
   "execution_count": 9,
   "id": "d0969c8a",
   "metadata": {},
   "outputs": [],
   "source": [
    "df = df.iloc[1:,1:]"
   ]
  },
  {
   "cell_type": "code",
   "execution_count": 10,
   "id": "09a4e116",
   "metadata": {
    "scrolled": true
   },
   "outputs": [
    {
     "data": {
      "text/html": [
       "<div>\n",
       "<style scoped>\n",
       "    .dataframe tbody tr th:only-of-type {\n",
       "        vertical-align: middle;\n",
       "    }\n",
       "\n",
       "    .dataframe tbody tr th {\n",
       "        vertical-align: top;\n",
       "    }\n",
       "\n",
       "    .dataframe thead th {\n",
       "        text-align: right;\n",
       "    }\n",
       "</style>\n",
       "<table border=\"1\" class=\"dataframe\">\n",
       "  <thead>\n",
       "    <tr style=\"text-align: right;\">\n",
       "      <th>2</th>\n",
       "      <th>Load</th>\n",
       "      <th>Speed</th>\n",
       "      <th>Time</th>\n",
       "      <th>Initial weight</th>\n",
       "      <th>Final weight</th>\n",
       "      <th>Weight loss</th>\n",
       "    </tr>\n",
       "  </thead>\n",
       "  <tbody>\n",
       "    <tr>\n",
       "      <th>3</th>\n",
       "      <td>1</td>\n",
       "      <td>200</td>\n",
       "      <td>30</td>\n",
       "      <td>14.926</td>\n",
       "      <td>14.921</td>\n",
       "      <td>0.005</td>\n",
       "    </tr>\n",
       "    <tr>\n",
       "      <th>4</th>\n",
       "      <td>1</td>\n",
       "      <td>400</td>\n",
       "      <td>30</td>\n",
       "      <td>15.03</td>\n",
       "      <td>15.026</td>\n",
       "      <td>0.004</td>\n",
       "    </tr>\n",
       "    <tr>\n",
       "      <th>5</th>\n",
       "      <td>1</td>\n",
       "      <td>600</td>\n",
       "      <td>30</td>\n",
       "      <td>15.067</td>\n",
       "      <td>15.064</td>\n",
       "      <td>0.003</td>\n",
       "    </tr>\n",
       "    <tr>\n",
       "      <th>6</th>\n",
       "      <td>2</td>\n",
       "      <td>200</td>\n",
       "      <td>30</td>\n",
       "      <td>15.567</td>\n",
       "      <td>15.559</td>\n",
       "      <td>0.008</td>\n",
       "    </tr>\n",
       "    <tr>\n",
       "      <th>7</th>\n",
       "      <td>2</td>\n",
       "      <td>400</td>\n",
       "      <td>30</td>\n",
       "      <td>15.823</td>\n",
       "      <td>15.818</td>\n",
       "      <td>0.005</td>\n",
       "    </tr>\n",
       "  </tbody>\n",
       "</table>\n",
       "</div>"
      ],
      "text/plain": [
       "2 Load Speed Time Initial weight Final weight Weight loss\n",
       "3    1   200   30         14.926       14.921       0.005\n",
       "4    1   400   30          15.03       15.026       0.004\n",
       "5    1   600   30         15.067       15.064       0.003\n",
       "6    2   200   30         15.567       15.559       0.008\n",
       "7    2   400   30         15.823       15.818       0.005"
      ]
     },
     "execution_count": 10,
     "metadata": {},
     "output_type": "execute_result"
    }
   ],
   "source": [
    "df.head()"
   ]
  },
  {
   "cell_type": "code",
   "execution_count": 11,
   "id": "f2515be0",
   "metadata": {},
   "outputs": [
    {
     "data": {
      "text/plain": [
       "2\n",
       "Load              0\n",
       "Speed             0\n",
       "Time              0\n",
       "Initial weight    0\n",
       "Final weight      0\n",
       "Weight loss       0\n",
       "dtype: int64"
      ]
     },
     "execution_count": 11,
     "metadata": {},
     "output_type": "execute_result"
    }
   ],
   "source": [
    "df.isnull().sum()"
   ]
  },
  {
   "cell_type": "code",
   "execution_count": 14,
   "id": "48a86f86",
   "metadata": {},
   "outputs": [
    {
     "name": "stdout",
     "output_type": "stream",
     "text": [
      "<class 'pandas.core.frame.DataFrame'>\n",
      "Int64Index: 27 entries, 3 to 29\n",
      "Data columns (total 6 columns):\n",
      " #   Column          Non-Null Count  Dtype \n",
      "---  ------          --------------  ----- \n",
      " 0   Load            27 non-null     object\n",
      " 1   Speed           27 non-null     object\n",
      " 2   Time            27 non-null     object\n",
      " 3   Initial weight  27 non-null     object\n",
      " 4   Final weight    27 non-null     object\n",
      " 5   Weight loss     27 non-null     object\n",
      "dtypes: object(6)\n",
      "memory usage: 1.5+ KB\n"
     ]
    }
   ],
   "source": [
    "df.info()"
   ]
  },
  {
   "cell_type": "code",
   "execution_count": 12,
   "id": "5f608935",
   "metadata": {},
   "outputs": [],
   "source": [
    "df['Load']=df['Load'].astype('float64')\n",
    "df['Speed']=df['Speed'].astype('float64')\n",
    "df['Time']=df['Time'].astype('float64')\n",
    "df['Initial weight']=df['Initial weight'].astype('float64')\n",
    "df['Final weight']=df['Final weight'].astype('float64')\n",
    "df['Weight loss']=df['Weight loss'].astype('float64')"
   ]
  },
  {
   "cell_type": "code",
   "execution_count": 13,
   "id": "6e1da9e8",
   "metadata": {},
   "outputs": [
    {
     "name": "stdout",
     "output_type": "stream",
     "text": [
      "<class 'pandas.core.frame.DataFrame'>\n",
      "Int64Index: 27 entries, 3 to 29\n",
      "Data columns (total 6 columns):\n",
      " #   Column          Non-Null Count  Dtype  \n",
      "---  ------          --------------  -----  \n",
      " 0   Load            27 non-null     float64\n",
      " 1   Speed           27 non-null     float64\n",
      " 2   Time            27 non-null     float64\n",
      " 3   Initial weight  27 non-null     float64\n",
      " 4   Final weight    27 non-null     float64\n",
      " 5   Weight loss     27 non-null     float64\n",
      "dtypes: float64(6)\n",
      "memory usage: 1.5 KB\n"
     ]
    }
   ],
   "source": [
    "df.info()"
   ]
  },
  {
   "cell_type": "code",
   "execution_count": 14,
   "id": "42ef8f0c",
   "metadata": {},
   "outputs": [
    {
     "data": {
      "text/html": [
       "<div>\n",
       "<style scoped>\n",
       "    .dataframe tbody tr th:only-of-type {\n",
       "        vertical-align: middle;\n",
       "    }\n",
       "\n",
       "    .dataframe tbody tr th {\n",
       "        vertical-align: top;\n",
       "    }\n",
       "\n",
       "    .dataframe thead th {\n",
       "        text-align: right;\n",
       "    }\n",
       "</style>\n",
       "<table border=\"1\" class=\"dataframe\">\n",
       "  <thead>\n",
       "    <tr style=\"text-align: right;\">\n",
       "      <th>2</th>\n",
       "      <th>Load</th>\n",
       "      <th>Speed</th>\n",
       "      <th>Time</th>\n",
       "      <th>Initial weight</th>\n",
       "      <th>Final weight</th>\n",
       "      <th>Weight loss</th>\n",
       "    </tr>\n",
       "  </thead>\n",
       "  <tbody>\n",
       "    <tr>\n",
       "      <th>count</th>\n",
       "      <td>27.00000</td>\n",
       "      <td>27.000000</td>\n",
       "      <td>27.000000</td>\n",
       "      <td>27.000000</td>\n",
       "      <td>27.000000</td>\n",
       "      <td>27.000000</td>\n",
       "    </tr>\n",
       "    <tr>\n",
       "      <th>mean</th>\n",
       "      <td>2.00000</td>\n",
       "      <td>400.000000</td>\n",
       "      <td>30.000000</td>\n",
       "      <td>15.391185</td>\n",
       "      <td>15.386333</td>\n",
       "      <td>0.004852</td>\n",
       "    </tr>\n",
       "    <tr>\n",
       "      <th>std</th>\n",
       "      <td>0.83205</td>\n",
       "      <td>166.410059</td>\n",
       "      <td>12.480754</td>\n",
       "      <td>0.527985</td>\n",
       "      <td>0.528248</td>\n",
       "      <td>0.002070</td>\n",
       "    </tr>\n",
       "    <tr>\n",
       "      <th>min</th>\n",
       "      <td>1.00000</td>\n",
       "      <td>200.000000</td>\n",
       "      <td>15.000000</td>\n",
       "      <td>14.127000</td>\n",
       "      <td>14.122000</td>\n",
       "      <td>0.002000</td>\n",
       "    </tr>\n",
       "    <tr>\n",
       "      <th>25%</th>\n",
       "      <td>1.00000</td>\n",
       "      <td>200.000000</td>\n",
       "      <td>15.000000</td>\n",
       "      <td>15.072500</td>\n",
       "      <td>15.068000</td>\n",
       "      <td>0.003000</td>\n",
       "    </tr>\n",
       "    <tr>\n",
       "      <th>50%</th>\n",
       "      <td>2.00000</td>\n",
       "      <td>400.000000</td>\n",
       "      <td>30.000000</td>\n",
       "      <td>15.374000</td>\n",
       "      <td>15.368000</td>\n",
       "      <td>0.005000</td>\n",
       "    </tr>\n",
       "    <tr>\n",
       "      <th>75%</th>\n",
       "      <td>3.00000</td>\n",
       "      <td>600.000000</td>\n",
       "      <td>45.000000</td>\n",
       "      <td>15.632000</td>\n",
       "      <td>15.625000</td>\n",
       "      <td>0.006000</td>\n",
       "    </tr>\n",
       "    <tr>\n",
       "      <th>max</th>\n",
       "      <td>3.00000</td>\n",
       "      <td>600.000000</td>\n",
       "      <td>45.000000</td>\n",
       "      <td>16.462000</td>\n",
       "      <td>16.458000</td>\n",
       "      <td>0.009000</td>\n",
       "    </tr>\n",
       "  </tbody>\n",
       "</table>\n",
       "</div>"
      ],
      "text/plain": [
       "2          Load       Speed       Time  Initial weight  Final weight  \\\n",
       "count  27.00000   27.000000  27.000000       27.000000     27.000000   \n",
       "mean    2.00000  400.000000  30.000000       15.391185     15.386333   \n",
       "std     0.83205  166.410059  12.480754        0.527985      0.528248   \n",
       "min     1.00000  200.000000  15.000000       14.127000     14.122000   \n",
       "25%     1.00000  200.000000  15.000000       15.072500     15.068000   \n",
       "50%     2.00000  400.000000  30.000000       15.374000     15.368000   \n",
       "75%     3.00000  600.000000  45.000000       15.632000     15.625000   \n",
       "max     3.00000  600.000000  45.000000       16.462000     16.458000   \n",
       "\n",
       "2      Weight loss  \n",
       "count    27.000000  \n",
       "mean      0.004852  \n",
       "std       0.002070  \n",
       "min       0.002000  \n",
       "25%       0.003000  \n",
       "50%       0.005000  \n",
       "75%       0.006000  \n",
       "max       0.009000  "
      ]
     },
     "execution_count": 14,
     "metadata": {},
     "output_type": "execute_result"
    }
   ],
   "source": [
    "df.describe()"
   ]
  },
  {
   "cell_type": "code",
   "execution_count": 15,
   "id": "de74e3a2",
   "metadata": {},
   "outputs": [],
   "source": [
    "correlation = df.corr()"
   ]
  },
  {
   "cell_type": "code",
   "execution_count": 16,
   "id": "e62bd7bb",
   "metadata": {},
   "outputs": [
    {
     "data": {
      "text/html": [
       "<div>\n",
       "<style scoped>\n",
       "    .dataframe tbody tr th:only-of-type {\n",
       "        vertical-align: middle;\n",
       "    }\n",
       "\n",
       "    .dataframe tbody tr th {\n",
       "        vertical-align: top;\n",
       "    }\n",
       "\n",
       "    .dataframe thead th {\n",
       "        text-align: right;\n",
       "    }\n",
       "</style>\n",
       "<table border=\"1\" class=\"dataframe\">\n",
       "  <thead>\n",
       "    <tr style=\"text-align: right;\">\n",
       "      <th>2</th>\n",
       "      <th>Load</th>\n",
       "      <th>Speed</th>\n",
       "      <th>Time</th>\n",
       "      <th>Initial weight</th>\n",
       "      <th>Final weight</th>\n",
       "      <th>Weight loss</th>\n",
       "    </tr>\n",
       "    <tr>\n",
       "      <th>2</th>\n",
       "      <th></th>\n",
       "      <th></th>\n",
       "      <th></th>\n",
       "      <th></th>\n",
       "      <th></th>\n",
       "      <th></th>\n",
       "    </tr>\n",
       "  </thead>\n",
       "  <tbody>\n",
       "    <tr>\n",
       "      <th>Load</th>\n",
       "      <td>1.000000e+00</td>\n",
       "      <td>-6.315935e-17</td>\n",
       "      <td>-9.868649e-17</td>\n",
       "      <td>0.003590</td>\n",
       "      <td>0.002275</td>\n",
       "      <td>0.334964</td>\n",
       "    </tr>\n",
       "    <tr>\n",
       "      <th>Speed</th>\n",
       "      <td>-6.315935e-17</td>\n",
       "      <td>1.000000e+00</td>\n",
       "      <td>4.210624e-17</td>\n",
       "      <td>-0.006916</td>\n",
       "      <td>-0.004813</td>\n",
       "      <td>-0.535942</td>\n",
       "    </tr>\n",
       "    <tr>\n",
       "      <th>Time</th>\n",
       "      <td>-9.868649e-17</td>\n",
       "      <td>4.210624e-17</td>\n",
       "      <td>1.000000e+00</td>\n",
       "      <td>-0.050866</td>\n",
       "      <td>-0.053379</td>\n",
       "      <td>0.647597</td>\n",
       "    </tr>\n",
       "    <tr>\n",
       "      <th>Initial weight</th>\n",
       "      <td>3.589543e-03</td>\n",
       "      <td>-6.916436e-03</td>\n",
       "      <td>-5.086644e-02</td>\n",
       "      <td>1.000000</td>\n",
       "      <td>0.999992</td>\n",
       "      <td>-0.125149</td>\n",
       "    </tr>\n",
       "    <tr>\n",
       "      <th>Final weight</th>\n",
       "      <td>2.275162e-03</td>\n",
       "      <td>-4.812842e-03</td>\n",
       "      <td>-5.337880e-02</td>\n",
       "      <td>0.999992</td>\n",
       "      <td>1.000000</td>\n",
       "      <td>-0.129005</td>\n",
       "    </tr>\n",
       "    <tr>\n",
       "      <th>Weight loss</th>\n",
       "      <td>3.349639e-01</td>\n",
       "      <td>-5.359422e-01</td>\n",
       "      <td>6.475968e-01</td>\n",
       "      <td>-0.125149</td>\n",
       "      <td>-0.129005</td>\n",
       "      <td>1.000000</td>\n",
       "    </tr>\n",
       "  </tbody>\n",
       "</table>\n",
       "</div>"
      ],
      "text/plain": [
       "2                       Load         Speed          Time  Initial weight  \\\n",
       "2                                                                          \n",
       "Load            1.000000e+00 -6.315935e-17 -9.868649e-17        0.003590   \n",
       "Speed          -6.315935e-17  1.000000e+00  4.210624e-17       -0.006916   \n",
       "Time           -9.868649e-17  4.210624e-17  1.000000e+00       -0.050866   \n",
       "Initial weight  3.589543e-03 -6.916436e-03 -5.086644e-02        1.000000   \n",
       "Final weight    2.275162e-03 -4.812842e-03 -5.337880e-02        0.999992   \n",
       "Weight loss     3.349639e-01 -5.359422e-01  6.475968e-01       -0.125149   \n",
       "\n",
       "2               Final weight  Weight loss  \n",
       "2                                          \n",
       "Load                0.002275     0.334964  \n",
       "Speed              -0.004813    -0.535942  \n",
       "Time               -0.053379     0.647597  \n",
       "Initial weight      0.999992    -0.125149  \n",
       "Final weight        1.000000    -0.129005  \n",
       "Weight loss        -0.129005     1.000000  "
      ]
     },
     "execution_count": 16,
     "metadata": {},
     "output_type": "execute_result"
    }
   ],
   "source": [
    "correlation"
   ]
  },
  {
   "cell_type": "code",
   "execution_count": 17,
   "id": "795fd2da",
   "metadata": {
    "scrolled": true
   },
   "outputs": [
    {
     "data": {
      "text/plain": [
       "<seaborn.axisgrid.PairGrid at 0x23837118fd0>"
      ]
     },
     "execution_count": 17,
     "metadata": {},
     "output_type": "execute_result"
    },
    {
     "data": {
      "image/png": "[encoded data removed]",
      "text/plain": [
       "<Figure size 1080x1080 with 42 Axes>"
      ]
     },
     "metadata": {
      "needs_background": "light"
     },
     "output_type": "display_data"
    }
   ],
   "source": [
    "sns.pairplot(df)"
   ]
  },
  {
   "cell_type": "code",
   "execution_count": 18,
   "id": "11dd496e",
   "metadata": {},
   "outputs": [
    {
     "data": {
      "text/html": [
       "<div>\n",
       "<style scoped>\n",
       "    .dataframe tbody tr th:only-of-type {\n",
       "        vertical-align: middle;\n",
       "    }\n",
       "\n",
       "    .dataframe tbody tr th {\n",
       "        vertical-align: top;\n",
       "    }\n",
       "\n",
       "    .dataframe thead th {\n",
       "        text-align: right;\n",
       "    }\n",
       "</style>\n",
       "<table border=\"1\" class=\"dataframe\">\n",
       "  <thead>\n",
       "    <tr style=\"text-align: right;\">\n",
       "      <th>2</th>\n",
       "      <th>Load</th>\n",
       "      <th>Speed</th>\n",
       "      <th>Time</th>\n",
       "      <th>Initial weight</th>\n",
       "      <th>Final weight</th>\n",
       "      <th>Weight loss</th>\n",
       "    </tr>\n",
       "  </thead>\n",
       "  <tbody>\n",
       "    <tr>\n",
       "      <th>3</th>\n",
       "      <td>1.0</td>\n",
       "      <td>200.0</td>\n",
       "      <td>30.0</td>\n",
       "      <td>14.926</td>\n",
       "      <td>14.921</td>\n",
       "      <td>0.005</td>\n",
       "    </tr>\n",
       "    <tr>\n",
       "      <th>4</th>\n",
       "      <td>1.0</td>\n",
       "      <td>400.0</td>\n",
       "      <td>30.0</td>\n",
       "      <td>15.030</td>\n",
       "      <td>15.026</td>\n",
       "      <td>0.004</td>\n",
       "    </tr>\n",
       "    <tr>\n",
       "      <th>5</th>\n",
       "      <td>1.0</td>\n",
       "      <td>600.0</td>\n",
       "      <td>30.0</td>\n",
       "      <td>15.067</td>\n",
       "      <td>15.064</td>\n",
       "      <td>0.003</td>\n",
       "    </tr>\n",
       "    <tr>\n",
       "      <th>6</th>\n",
       "      <td>2.0</td>\n",
       "      <td>200.0</td>\n",
       "      <td>30.0</td>\n",
       "      <td>15.567</td>\n",
       "      <td>15.559</td>\n",
       "      <td>0.008</td>\n",
       "    </tr>\n",
       "    <tr>\n",
       "      <th>7</th>\n",
       "      <td>2.0</td>\n",
       "      <td>400.0</td>\n",
       "      <td>30.0</td>\n",
       "      <td>15.823</td>\n",
       "      <td>15.818</td>\n",
       "      <td>0.005</td>\n",
       "    </tr>\n",
       "  </tbody>\n",
       "</table>\n",
       "</div>"
      ],
      "text/plain": [
       "2  Load  Speed  Time  Initial weight  Final weight  Weight loss\n",
       "3   1.0  200.0  30.0          14.926        14.921        0.005\n",
       "4   1.0  400.0  30.0          15.030        15.026        0.004\n",
       "5   1.0  600.0  30.0          15.067        15.064        0.003\n",
       "6   2.0  200.0  30.0          15.567        15.559        0.008\n",
       "7   2.0  400.0  30.0          15.823        15.818        0.005"
      ]
     },
     "execution_count": 18,
     "metadata": {},
     "output_type": "execute_result"
    }
   ],
   "source": [
    "df.head()"
   ]
  },
  {
   "cell_type": "code",
   "execution_count": 19,
   "id": "48c98b25",
   "metadata": {},
   "outputs": [
    {
     "data": {
      "text/plain": [
       "Text(0, 0.5, 'Weight loss')"
      ]
     },
     "execution_count": 19,
     "metadata": {},
     "output_type": "execute_result"
    },
    {
     "data": {
      "image/png": "[encoded data removed]",
      "text/plain": [
       "<Figure size 432x288 with 1 Axes>"
      ]
     },
     "metadata": {
      "needs_background": "light"
     },
     "output_type": "display_data"
    }
   ],
   "source": [
    "plt.scatter(df['Load'],df['Weight loss'])\n",
    "plt.xlabel('Load')\n",
    "plt.ylabel('Weight loss')"
   ]
  },
  {
   "cell_type": "code",
   "execution_count": 23,
   "id": "fa93f7f3",
   "metadata": {},
   "outputs": [],
   "source": [
    "#TRAIN TEST SPLIT\n"
   ]
  },
  {
   "cell_type": "code",
   "execution_count": 20,
   "id": "97f3a647",
   "metadata": {},
   "outputs": [],
   "source": [
    "x = df.iloc[:,:-3]\n",
    "y = df.iloc[:,-1]"
   ]
  },
  {
   "cell_type": "code",
   "execution_count": 21,
   "id": "548ae273",
   "metadata": {},
   "outputs": [
    {
     "name": "stdout",
     "output_type": "stream",
     "text": [
      "2   Load  Speed  Time\n",
      "3    1.0  200.0  30.0\n",
      "4    1.0  400.0  30.0\n",
      "5    1.0  600.0  30.0\n",
      "6    2.0  200.0  30.0\n",
      "7    2.0  400.0  30.0\n",
      "8    2.0  600.0  30.0\n",
      "9    3.0  200.0  30.0\n",
      "10   3.0  400.0  30.0\n",
      "11   3.0  600.0  30.0\n",
      "12   1.0  200.0  45.0\n",
      "13   1.0  400.0  45.0\n",
      "14   1.0  600.0  45.0\n",
      "15   2.0  200.0  45.0\n",
      "16   2.0  400.0  45.0\n",
      "17   2.0  600.0  45.0\n",
      "18   3.0  200.0  45.0\n",
      "19   3.0  400.0  45.0\n",
      "20   3.0  600.0  45.0\n",
      "21   1.0  200.0  15.0\n",
      "22   1.0  400.0  15.0\n",
      "23   1.0  600.0  15.0\n",
      "24   2.0  200.0  15.0\n",
      "25   2.0  400.0  15.0\n",
      "26   2.0  600.0  15.0\n",
      "27   3.0  200.0  15.0\n",
      "28   3.0  400.0  15.0\n",
      "29   3.0  600.0  15.0\n"
     ]
    }
   ],
   "source": [
    "print(x)"
   ]
  },
  {
   "cell_type": "code",
   "execution_count": 22,
   "id": "98d580eb",
   "metadata": {},
   "outputs": [
    {
     "name": "stdout",
     "output_type": "stream",
     "text": [
      "3     0.005\n",
      "4     0.004\n",
      "5     0.003\n",
      "6     0.008\n",
      "7     0.005\n",
      "8     0.005\n",
      "9     0.008\n",
      "10    0.004\n",
      "11    0.004\n",
      "12    0.006\n",
      "13    0.005\n",
      "14    0.004\n",
      "15    0.009\n",
      "16    0.006\n",
      "17    0.006\n",
      "18    0.009\n",
      "19    0.006\n",
      "20    0.006\n",
      "21    0.003\n",
      "22    0.002\n",
      "23    0.002\n",
      "24    0.005\n",
      "25    0.002\n",
      "26    0.002\n",
      "27    0.006\n",
      "28    0.003\n",
      "29    0.003\n",
      "Name: Weight loss, dtype: float64\n"
     ]
    }
   ],
   "source": [
    "print(y)"
   ]
  },
  {
   "cell_type": "code",
   "execution_count": 23,
   "id": "ebba7deb",
   "metadata": {},
   "outputs": [],
   "source": [
    "from sklearn.model_selection import train_test_split\n",
    "x_train,x_test,y_train,y_test = train_test_split(x,y,test_size=0.3,random_state = 42)"
   ]
  },
  {
   "cell_type": "code",
   "execution_count": 28,
   "id": "eb4cc66d",
   "metadata": {},
   "outputs": [],
   "source": [
    "## standerdizing thr dataset "
   ]
  },
  {
   "cell_type": "code",
   "execution_count": 24,
   "id": "bbe0a9fd",
   "metadata": {},
   "outputs": [],
   "source": [
    "from sklearn.preprocessing import StandardScaler\n",
    "scaler= StandardScaler()"
   ]
  },
  {
   "cell_type": "code",
   "execution_count": 25,
   "id": "4b30a541",
   "metadata": {},
   "outputs": [],
   "source": [
    "x_train = scaler.fit_transform(x_train)\n",
    "x_test = scaler.transform(x_test)"
   ]
  },
  {
   "cell_type": "code",
   "execution_count": 26,
   "id": "1e52919b",
   "metadata": {},
   "outputs": [
    {
     "data": {
      "text/plain": [
       "array([[ 1.22474487, -1.35369395, -0.9883717 ],\n",
       "       [-1.22474487, -0.07124705,  0.38014296],\n",
       "       [ 0.        , -0.07124705,  0.38014296],\n",
       "       [ 0.        ,  1.21119985,  0.38014296],\n",
       "       [-1.22474487,  1.21119985,  0.38014296],\n",
       "       [ 1.22474487, -1.35369395,  1.74865762],\n",
       "       [ 0.        , -0.07124705, -0.9883717 ],\n",
       "       [ 0.        , -1.35369395,  0.38014296],\n",
       "       [ 1.22474487, -0.07124705, -0.9883717 ],\n",
       "       [ 0.        ,  1.21119985, -0.9883717 ],\n",
       "       [-1.22474487, -1.35369395, -0.9883717 ],\n",
       "       [ 1.22474487,  1.21119985, -0.9883717 ],\n",
       "       [-1.22474487,  1.21119985, -0.9883717 ],\n",
       "       [ 1.22474487, -0.07124705,  0.38014296],\n",
       "       [-1.22474487, -0.07124705,  1.74865762],\n",
       "       [ 0.        ,  1.21119985,  1.74865762],\n",
       "       [-1.22474487, -0.07124705, -0.9883717 ],\n",
       "       [ 1.22474487, -1.35369395,  0.38014296]])"
      ]
     },
     "execution_count": 26,
     "metadata": {},
     "output_type": "execute_result"
    }
   ],
   "source": [
    "x_train"
   ]
  },
  {
   "cell_type": "code",
   "execution_count": 27,
   "id": "75962cff",
   "metadata": {},
   "outputs": [
    {
     "data": {
      "text/plain": [
       "array([[ 1.22474487,  1.21119985,  0.38014296],\n",
       "       [ 0.        , -0.07124705,  1.74865762],\n",
       "       [-1.22474487, -1.35369395,  1.74865762],\n",
       "       [ 0.        , -1.35369395, -0.9883717 ],\n",
       "       [-1.22474487, -1.35369395,  0.38014296],\n",
       "       [-1.22474487,  1.21119985,  1.74865762],\n",
       "       [ 1.22474487, -0.07124705,  1.74865762],\n",
       "       [ 1.22474487,  1.21119985,  1.74865762],\n",
       "       [ 0.        , -1.35369395,  1.74865762]])"
      ]
     },
     "execution_count": 27,
     "metadata": {},
     "output_type": "execute_result"
    }
   ],
   "source": [
    "x_test"
   ]
  },
  {
   "cell_type": "code",
   "execution_count": 28,
   "id": "0dfb1c70",
   "metadata": {},
   "outputs": [
    {
     "data": {
      "text/plain": [
       "27    0.006\n",
       "4     0.004\n",
       "7     0.005\n",
       "8     0.005\n",
       "5     0.003\n",
       "18    0.009\n",
       "25    0.002\n",
       "6     0.008\n",
       "28    0.003\n",
       "26    0.002\n",
       "21    0.003\n",
       "29    0.003\n",
       "23    0.002\n",
       "10    0.004\n",
       "13    0.005\n",
       "17    0.006\n",
       "22    0.002\n",
       "9     0.008\n",
       "Name: Weight loss, dtype: float64"
      ]
     },
     "execution_count": 28,
     "metadata": {},
     "output_type": "execute_result"
    }
   ],
   "source": [
    "y_train"
   ]
  },
  {
   "cell_type": "code",
   "execution_count": 31,
   "id": "d5518fed",
   "metadata": {},
   "outputs": [],
   "source": [
    "## model training "
   ]
  },
  {
   "cell_type": "code",
   "execution_count": 32,
   "id": "6f89a606",
   "metadata": {},
   "outputs": [],
   "source": [
    "from sklearn.linear_model import LinearRegression"
   ]
  },
  {
   "cell_type": "code",
   "execution_count": 33,
   "id": "31093706",
   "metadata": {},
   "outputs": [],
   "source": [
    "regression=LinearRegression()"
   ]
  },
  {
   "cell_type": "code",
   "execution_count": 34,
   "id": "d691a83d",
   "metadata": {},
   "outputs": [
    {
     "data": {
      "text/plain": [
       "LinearRegression()"
      ]
     },
     "execution_count": 34,
     "metadata": {},
     "output_type": "execute_result"
    }
   ],
   "source": [
    "regression.fit(x_train,y_train)"
   ]
  },
  {
   "cell_type": "code",
   "execution_count": 35,
   "id": "3a835cad",
   "metadata": {},
   "outputs": [],
   "source": [
    "## getting coefficients and intercepts"
   ]
  },
  {
   "cell_type": "code",
   "execution_count": 36,
   "id": "e0be9260",
   "metadata": {},
   "outputs": [
    {
     "name": "stdout",
     "output_type": "stream",
     "text": [
      "[ 0.00070095 -0.00096123  0.00139375]\n",
      "0.00444444444444433\n"
     ]
    }
   ],
   "source": [
    "print(regression.coef_)\n",
    "print(regression.intercept_)"
   ]
  },
  {
   "cell_type": "code",
   "execution_count": 37,
   "id": "e4267b71",
   "metadata": {},
   "outputs": [],
   "source": [
    "y_pred = regression.predict(x_test)"
   ]
  },
  {
   "cell_type": "code",
   "execution_count": 38,
   "id": "601c33ca",
   "metadata": {},
   "outputs": [
    {
     "data": {
      "text/plain": [
       "<matplotlib.collections.PathCollection at 0x182de940250>"
      ]
     },
     "execution_count": 38,
     "metadata": {},
     "output_type": "execute_result"
    },
    {
     "data": {
      "image/png": "[encoded data removed]",
      "text/plain": [
       "<Figure size 432x288 with 1 Axes>"
      ]
     },
     "metadata": {
      "needs_background": "light"
     },
     "output_type": "display_data"
    }
   ],
   "source": [
    "plt.scatter(y_test, y_pred)"
   ]
  },
  {
   "cell_type": "code",
   "execution_count": 39,
   "id": "7825707f",
   "metadata": {},
   "outputs": [],
   "source": [
    "## plot of residuals \n",
    "resd = y_test - y_pred"
   ]
  },
  {
   "cell_type": "code",
   "execution_count": 40,
   "id": "1894e491",
   "metadata": {},
   "outputs": [
    {
     "name": "stdout",
     "output_type": "stream",
     "text": [
      "11   -0.000669\n",
      "16   -0.000950\n",
      "12   -0.001324\n",
      "24    0.000632\n",
      "3    -0.000417\n",
      "14   -0.000859\n",
      "19   -0.001809\n",
      "20   -0.000576\n",
      "15    0.000817\n",
      "Name: Weight loss, dtype: float64\n"
     ]
    }
   ],
   "source": [
    "print(resd)"
   ]
  },
  {
   "cell_type": "code",
   "execution_count": 41,
   "id": "11fa2de3",
   "metadata": {},
   "outputs": [],
   "source": [
    "from sklearn.metrics import r2_score"
   ]
  },
  {
   "cell_type": "code",
   "execution_count": 42,
   "id": "f2663a1c",
   "metadata": {},
   "outputs": [],
   "source": [
    "score = r2_score(y_test,y_pred)"
   ]
  },
  {
   "cell_type": "code",
   "execution_count": 43,
   "id": "45bd1d88",
   "metadata": {},
   "outputs": [
    {
     "name": "stdout",
     "output_type": "stream",
     "text": [
      "0.5175043348883526\n"
     ]
    }
   ],
   "source": [
    "print(score)"
   ]
  },
  {
   "cell_type": "code",
   "execution_count": 44,
   "id": "31d8d62b",
   "metadata": {},
   "outputs": [],
   "source": [
    "## model training 2"
   ]
  },
  {
   "cell_type": "code",
   "execution_count": 45,
   "id": "f955e1ff",
   "metadata": {},
   "outputs": [],
   "source": [
    "from sklearn.ensemble import RandomForestRegressor\n",
    "from sklearn import metrics "
   ]
  },
  {
   "cell_type": "code",
   "execution_count": 46,
   "id": "7f4f3133",
   "metadata": {},
   "outputs": [],
   "source": [
    "regressor = RandomForestRegressor(n_estimators=100)"
   ]
  },
  {
   "cell_type": "code",
   "execution_count": 47,
   "id": "4e2e4593",
   "metadata": {},
   "outputs": [
    {
     "data": {
      "text/plain": [
       "RandomForestRegressor()"
      ]
     },
     "execution_count": 47,
     "metadata": {},
     "output_type": "execute_result"
    }
   ],
   "source": [
    "# training the model \n",
    "regressor.fit(x_train,y_train)"
   ]
  },
  {
   "cell_type": "code",
   "execution_count": 48,
   "id": "74b62ad4",
   "metadata": {},
   "outputs": [],
   "source": [
    "# model evaluation \n",
    "y_pred = regressor.predict(x_test)"
   ]
  },
  {
   "cell_type": "code",
   "execution_count": 49,
   "id": "3bd9c5a7",
   "metadata": {},
   "outputs": [
    {
     "name": "stdout",
     "output_type": "stream",
     "text": [
      "[0.00452 0.00549 0.00741 0.00463 0.0067  0.00461 0.00541 0.00542 0.00808]\n"
     ]
    }
   ],
   "source": [
    "print(y_pred)"
   ]
  },
  {
   "cell_type": "code",
   "execution_count": 50,
   "id": "f3aafd0c",
   "metadata": {},
   "outputs": [],
   "source": [
    "# R squared error \n",
    "error_score = metrics.r2_score(y_test,y_pred)"
   ]
  },
  {
   "cell_type": "code",
   "execution_count": 51,
   "id": "88c4515a",
   "metadata": {},
   "outputs": [
    {
     "name": "stdout",
     "output_type": "stream",
     "text": [
      "R_squared error:  0.5861944444446647\n"
     ]
    }
   ],
   "source": [
    "print('R_squared error: ',error_score)"
   ]
  },
  {
   "cell_type": "code",
   "execution_count": 52,
   "id": "a99147cd",
   "metadata": {},
   "outputs": [],
   "source": [
    "y_test = list(y_test)"
   ]
  },
  {
   "cell_type": "code",
   "execution_count": 54,
   "id": "24eb167f",
   "metadata": {},
   "outputs": [
    {
     "data": {
      "image/png": "[encoded data removed]",
      "text/plain": [
       "<Figure size 432x288 with 1 Axes>"
      ]
     },
     "metadata": {
      "needs_background": "light"
     },
     "output_type": "display_data"
    }
   ],
   "source": [
    "plt.plot (y_test, color='red', label='actual value')\n",
    "plt.plot (y_pred,color = 'blue', label ='pred value')\n",
    "#plt.title('Actual price vs Predicted price')\n",
    "#plt.xlabel ('No, of values')\n",
    "#plt.ylabel('GLD price')\n",
    "#plt.legend()\n",
    "plt.show()"
   ]
  },
  {
   "cell_type": "code",
   "execution_count": null,
   "id": "b2e75be9",
   "metadata": {},
   "outputs": [],
   "source": []
  }
 ],
 "metadata": {
  "kernelspec": {
   "display_name": "Python 3 (ipykernel)",
   "language": "python",
   "name": "python3"
  },
  "language_info": {
   "codemirror_mode": {
    "name": "ipython",
    "version": 3
   },
   "file_extension": ".py",
   "mimetype": "text/x-python",
   "name": "python",
   "nbconvert_exporter": "python",
   "pygments_lexer": "ipython3",
   "version": "3.9.12"
  }
 },
 "nbformat": 4,
 "nbformat_minor": 5
}
